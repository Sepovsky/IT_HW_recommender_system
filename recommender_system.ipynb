{
 "cells": [
  {
   "cell_type": "markdown",
   "id": "cf5336bb-c715-482f-872f-66fb143812bf",
   "metadata": {},
   "source": [
    "# IT homework2 \n",
    "## Implementing a simple recommender system\n",
    "### by sepehr shirani"
   ]
  },
  {
   "cell_type": "code",
   "execution_count": 13,
   "id": "d913388f-5fa1-4067-8a49-6c3a6c079ef5",
   "metadata": {},
   "outputs": [],
   "source": [
    "# First we define our modules\n",
    "\n",
    "from surprise import SVD\n",
    "from surprise import KNNBasic\n",
    "from surprise import Dataset\n",
    "from surprise import accuracy\n",
    "from surprise.model_selection import cross_validate\n",
    "from surprise.model_selection import train_test_split"
   ]
  },
  {
   "cell_type": "markdown",
   "id": "bccf1294-94c3-4926-9591-c9987a102fa0",
   "metadata": {},
   "source": [
    "### loading dataset"
   ]
  },
  {
   "cell_type": "code",
   "execution_count": 14,
   "id": "51c94b18-6690-4355-8148-b6bd3faf0d9c",
   "metadata": {},
   "outputs": [],
   "source": [
    "data = Dataset.load_builtin('ml-100k')"
   ]
  },
  {
   "cell_type": "markdown",
   "id": "c7886fc1-7985-40e7-b1b9-08dcc16a789d",
   "metadata": {},
   "source": [
    "### Using SVD algorithem"
   ]
  },
  {
   "cell_type": "code",
   "execution_count": 15,
   "id": "93c70230-4e1a-44bf-9a0d-00d1cfa72236",
   "metadata": {},
   "outputs": [],
   "source": [
    "algo_SVD = SVD()"
   ]
  },
  {
   "cell_type": "markdown",
   "id": "0306e4b1-1d29-49f2-ba0e-2736c83a37a8",
   "metadata": {},
   "source": [
    "### Using KNN algorithem"
   ]
  },
  {
   "cell_type": "code",
   "execution_count": 16,
   "id": "6ad01288-4705-4770-bec8-d1dfe6da753e",
   "metadata": {},
   "outputs": [],
   "source": [
    "algo_KNN = KNNBasic()"
   ]
  },
  {
   "cell_type": "markdown",
   "id": "e225eb04-c314-4e3a-98e4-ba193d7bb6c3",
   "metadata": {},
   "source": [
    "## Cross validation"
   ]
  },
  {
   "cell_type": "markdown",
   "id": "65b95bef-b0e8-497d-915d-8be0263ef375",
   "metadata": {},
   "source": [
    "### for SVD"
   ]
  },
  {
   "cell_type": "code",
   "execution_count": 17,
   "id": "4332a939-2268-4590-9959-4ccfae23f264",
   "metadata": {},
   "outputs": [
    {
     "name": "stdout",
     "output_type": "stream",
     "text": [
      "Evaluating RMSE, MAE of algorithm SVD on 4 split(s).\n",
      "\n",
      "                  Fold 1  Fold 2  Fold 3  Fold 4  Mean    Std     \n",
      "RMSE (testset)    0.9399  0.9441  0.9394  0.9401  0.9409  0.0019  \n",
      "MAE (testset)     0.7419  0.7460  0.7385  0.7395  0.7415  0.0029  \n",
      "Fit time          3.16    3.16    3.35    3.16    3.21    0.08    \n",
      "Test time         0.20    0.11    0.20    0.11    0.15    0.04    \n"
     ]
    },
    {
     "data": {
      "text/plain": [
       "{'test_rmse': array([0.93991121, 0.94411191, 0.9394462 , 0.94011236]),\n",
       " 'test_mae': array([0.74193569, 0.74595932, 0.73851473, 0.73947138]),\n",
       " 'fit_time': (3.1573069095611572,\n",
       "  3.1595308780670166,\n",
       "  3.347050905227661,\n",
       "  3.158342123031616),\n",
       " 'test_time': (0.19550824165344238,\n",
       "  0.11244463920593262,\n",
       "  0.19869613647460938,\n",
       "  0.1124417781829834)}"
      ]
     },
     "execution_count": 17,
     "metadata": {},
     "output_type": "execute_result"
    }
   ],
   "source": [
    "cross_validate(algo_SVD, data, measures=['RMSE', 'MAE'], cv=4, verbose=True)"
   ]
  },
  {
   "cell_type": "markdown",
   "id": "93b4cc43-67d1-48b7-a4d0-9b89446c850d",
   "metadata": {},
   "source": [
    "### for KNN"
   ]
  },
  {
   "cell_type": "code",
   "execution_count": 18,
   "id": "55f76a6c-9d8c-4147-a30f-efeb4225a093",
   "metadata": {},
   "outputs": [
    {
     "name": "stdout",
     "output_type": "stream",
     "text": [
      "Computing the msd similarity matrix...\n",
      "Done computing similarity matrix.\n",
      "Computing the msd similarity matrix...\n",
      "Done computing similarity matrix.\n",
      "Computing the msd similarity matrix...\n",
      "Done computing similarity matrix.\n",
      "Computing the msd similarity matrix...\n",
      "Done computing similarity matrix.\n",
      "Evaluating RMSE, MAE of algorithm KNNBasic on 4 split(s).\n",
      "\n",
      "                  Fold 1  Fold 2  Fold 3  Fold 4  Mean    Std     \n",
      "RMSE (testset)    0.9811  0.9826  0.9809  0.9828  0.9818  0.0008  \n",
      "MAE (testset)     0.7734  0.7767  0.7766  0.7753  0.7755  0.0013  \n",
      "Fit time          0.25    0.25    0.24    0.25    0.25    0.00    \n",
      "Test time         2.31    2.41    2.32    2.40    2.36    0.05    \n"
     ]
    },
    {
     "data": {
      "text/plain": [
       "{'test_rmse': array([0.98109855, 0.98258468, 0.98090776, 0.98277578]),\n",
       " 'test_mae': array([0.77337072, 0.77665751, 0.77664342, 0.77531133]),\n",
       " 'fit_time': (0.2483079433441162,\n",
       "  0.2462787628173828,\n",
       "  0.24364042282104492,\n",
       "  0.25246548652648926),\n",
       " 'test_time': (2.312495231628418,\n",
       "  2.410367012023926,\n",
       "  2.3150923252105713,\n",
       "  2.3999173641204834)}"
      ]
     },
     "execution_count": 18,
     "metadata": {},
     "output_type": "execute_result"
    }
   ],
   "source": [
    "cross_validate(algo_KNN, data, measures=['RMSE', 'MAE'], cv=4, verbose=True)"
   ]
  },
  {
   "cell_type": "markdown",
   "id": "b3609cb5-a1e7-4bd1-9016-3a6cb09a9bcf",
   "metadata": {},
   "source": [
    "### Split dataset for training data and test data"
   ]
  },
  {
   "cell_type": "code",
   "execution_count": 19,
   "id": "b7ebb7ed-040f-469b-b62c-6269a4066e3d",
   "metadata": {},
   "outputs": [],
   "source": [
    "trainset, testset = train_test_split(data, test_size=.25)"
   ]
  },
  {
   "cell_type": "markdown",
   "id": "7dc75938-c10a-4f1b-86bf-0fa2de251a42",
   "metadata": {},
   "source": [
    "## Fit trainset and predict testset"
   ]
  },
  {
   "cell_type": "markdown",
   "id": "82d939ba-a825-43d4-83f8-0633856be780",
   "metadata": {},
   "source": [
    "### For SVD"
   ]
  },
  {
   "cell_type": "code",
   "execution_count": 20,
   "id": "2ef05ea8-de5c-4b9a-b9d8-cef71076d9e7",
   "metadata": {},
   "outputs": [
    {
     "name": "stdout",
     "output_type": "stream",
     "text": [
      "RMSE: 0.9366\n",
      "MAE:  0.7364\n"
     ]
    }
   ],
   "source": [
    "algo_SVD.fit(trainset)\n",
    "predict_SVD = algo_SVD.test(testset)\n",
    "RMSE = accuracy.rmse(predict_SVD)\n",
    "MAE = accuracy.mae(predict_SVD)"
   ]
  },
  {
   "cell_type": "markdown",
   "id": "c4ad808f-6e50-4626-ba39-1fe4a7b04f17",
   "metadata": {},
   "source": [
    "### For KNN"
   ]
  },
  {
   "cell_type": "code",
   "execution_count": 21,
   "id": "583a1507-6d2b-41ea-8535-aead05ea98fd",
   "metadata": {},
   "outputs": [
    {
     "name": "stdout",
     "output_type": "stream",
     "text": [
      "Computing the msd similarity matrix...\n",
      "Done computing similarity matrix.\n",
      "RMSE: 0.9801\n",
      "MAE:  0.7742\n"
     ]
    }
   ],
   "source": [
    "algo_KNN.fit(trainset)\n",
    "predict_KNN = algo_KNN.test(testset)\n",
    "RMSE = accuracy.rmse(predict_KNN)\n",
    "MAE = accuracy.mae(predict_KNN)"
   ]
  }
 ],
 "metadata": {
  "kernelspec": {
   "display_name": "Python 3 (ipykernel)",
   "language": "python",
   "name": "python3"
  },
  "language_info": {
   "codemirror_mode": {
    "name": "ipython",
    "version": 3
   },
   "file_extension": ".py",
   "mimetype": "text/x-python",
   "name": "python",
   "nbconvert_exporter": "python",
   "pygments_lexer": "ipython3",
   "version": "3.8.10"
  }
 },
 "nbformat": 4,
 "nbformat_minor": 5
}
